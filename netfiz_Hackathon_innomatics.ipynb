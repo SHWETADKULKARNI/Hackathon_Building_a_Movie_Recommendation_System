{
 "cells": [
  {
   "cell_type": "markdown",
   "metadata": {
    "id": "d3Z7qBLCsXi_"
   },
   "source": [
    "**What is the shape of \"movies.csv\"?**\n"
   ]
  },
  {
   "cell_type": "code",
   "execution_count": 1,
   "metadata": {
    "colab": {
     "base_uri": "https://localhost:8080/"
    },
    "id": "QPsihtD6qqBG",
    "outputId": "98a4acae-cc67-48a9-ba70-ff372ddc3521"
   },
   "outputs": [
    {
     "name": "stdout",
     "output_type": "stream",
     "text": [
      "Shape of 'movies.csv': (9742, 3)\n"
     ]
    }
   ],
   "source": [
    "import pandas as pd\n",
    "\n",
    "movies_df = pd.read_csv('movies.csv')\n",
    "print(\"Shape of 'movies.csv':\", movies_df.shape)\n"
   ]
  },
  {
   "cell_type": "markdown",
   "metadata": {
    "id": "CzMHOjlmsmY5"
   },
   "source": [
    "**What is the shape of \"ratings.csv\"?**\n",
    "*"
   ]
  },
  {
   "cell_type": "code",
   "execution_count": 2,
   "metadata": {
    "colab": {
     "base_uri": "https://localhost:8080/"
    },
    "id": "t84mRLXEqqRV",
    "outputId": "e0d95f58-bb10-41c0-884b-1411c4ae1c9d"
   },
   "outputs": [
    {
     "name": "stdout",
     "output_type": "stream",
     "text": [
      "Shape of 'ratings.csv': (100836, 4)\n"
     ]
    }
   ],
   "source": [
    "import pandas as pd\n",
    "\n",
    "ratings_df = pd.read_csv('ratings.csv')\n",
    "\n",
    "print(\"Shape of 'ratings.csv':\", ratings_df.shape)\n"
   ]
  },
  {
   "cell_type": "markdown",
   "metadata": {
    "id": "nmvHEyMZst6G"
   },
   "source": [
    "**How many unique \"userId\" are available in \"ratings.csv\"?**\n"
   ]
  },
  {
   "cell_type": "code",
   "execution_count": 3,
   "metadata": {
    "colab": {
     "base_uri": "https://localhost:8080/"
    },
    "id": "jQa6n6D0qqa1",
    "outputId": "bfaea027-ab16-4128-87b5-7b78c5be9e2b"
   },
   "outputs": [
    {
     "name": "stdout",
     "output_type": "stream",
     "text": [
      "Number of unique userIds in 'ratings.csv': 610\n"
     ]
    }
   ],
   "source": [
    "import pandas as pd\n",
    "\n",
    "# Read the 'ratings.csv' file\n",
    "ratings_df = pd.read_csv('ratings.csv')\n",
    "\n",
    "unique_user_ids = ratings_df['userId'].unique()\n",
    "\n",
    "\n",
    "num_unique_user_ids = len(unique_user_ids)\n",
    "\n",
    "print(\"Number of unique userIds in 'ratings.csv':\", num_unique_user_ids)\n"
   ]
  },
  {
   "cell_type": "markdown",
   "metadata": {
    "id": "k931OUt3sy-r"
   },
   "source": [
    "**Which movie has recieved maximum number of user ratings?**"
   ]
  },
  {
   "cell_type": "code",
   "execution_count": 4,
   "metadata": {
    "colab": {
     "base_uri": "https://localhost:8080/"
    },
    "id": "EfB3kYBxdBUf",
    "outputId": "1fd0b77e-af5a-4de2-bbe9-4c136e802fa3"
   },
   "outputs": [
    {
     "name": "stdout",
     "output_type": "stream",
     "text": [
      "Movie with Maximum Ratings:\n",
      "Movie ID: 318\n",
      "Movie Title: Shawshank Redemption, The (1994)\n"
     ]
    }
   ],
   "source": [
    "import pandas as pd\n",
    "\n",
    "ratings_df = pd.read_csv('ratings.csv')\n",
    "\n",
    "movies_df = pd.read_csv('movies.csv')\n",
    "\n",
    "movie_ratings = ratings_df.groupby('movieId')['rating'].sum()\n",
    "\n",
    "# Find the movie with the maximum ratings\n",
    "max_rated_movie_id = movie_ratings.idxmax()\n",
    "\n",
    "max_rated_movie_title = movies_df[movies_df['movieId'] == max_rated_movie_id]['title'].iloc[0]\n",
    "\n",
    "# Print the result\n",
    "print(\"Movie with Maximum Ratings:\")\n",
    "print(\"Movie ID:\", max_rated_movie_id)\n",
    "print(\"Movie Title:\", max_rated_movie_title)\n",
    "\n",
    "\n",
    "\n"
   ]
  },
  {
   "cell_type": "markdown",
   "metadata": {
    "id": "48TFhzN0s5aT"
   },
   "source": [
    "**Select all the correct tags submitted by users to \"Matrix, The (1999)\" movie?**"
   ]
  },
  {
   "cell_type": "code",
   "execution_count": 5,
   "metadata": {
    "colab": {
     "base_uri": "https://localhost:8080/"
    },
    "id": "AEnwbgwndbjq",
    "outputId": "9f312119-0603-41af-b15e-c99888452049"
   },
   "outputs": [
    {
     "name": "stdout",
     "output_type": "stream",
     "text": [
      "Tags for 'Matrix, The (1999)':\n",
      "815           martial arts\n",
      "816                 sci-fi\n",
      "1646    alternate universe\n",
      "2794            philosophy\n",
      "2795      post apocalyptic\n",
      "Name: tag, dtype: object\n"
     ]
    }
   ],
   "source": [
    "import pandas as pd\n",
    "\n",
    "\n",
    "tags_df = pd.read_csv('tags.csv')\n",
    "\n",
    "movies_df = pd.read_csv('movies.csv')\n",
    "\n",
    "matrix_movie_id = movies_df[movies_df['title'] == 'Matrix, The (1999)']['movieId'].iloc[0]\n",
    "\n",
    "matrix_tags = tags_df[tags_df['movieId'] == matrix_movie_id]['tag']\n",
    "\n",
    "print(\"Tags for 'Matrix, The (1999)':\")\n",
    "print(matrix_tags)\n"
   ]
  },
  {
   "cell_type": "markdown",
   "metadata": {
    "id": "zuG6XLJ6s9c_"
   },
   "source": [
    "**What is the average user rating for movie named \"Terminator 2: Judgment Day (1991)\"?**"
   ]
  },
  {
   "cell_type": "code",
   "execution_count": 6,
   "metadata": {
    "colab": {
     "base_uri": "https://localhost:8080/"
    },
    "id": "rI51y5ghgx_X",
    "outputId": "382f8888-bcfd-4915-bcfc-9dbb1fbd42b0"
   },
   "outputs": [
    {
     "name": "stdout",
     "output_type": "stream",
     "text": [
      "Average User Rating for 'Terminator 2: Judgment Day (1991)': 3.97\n"
     ]
    }
   ],
   "source": [
    "import pandas as pd\n",
    "\n",
    "\n",
    "ratings_df = pd.read_csv('ratings.csv')\n",
    "movies_df = pd.read_csv('movies.csv')\n",
    "\n",
    "# Find the movieId for \"Terminator 2: Judgment Day (1991)\"\n",
    "terminator_movie_id = movies_df[movies_df['title'] == 'Terminator 2: Judgment Day (1991)']['movieId'].iloc[0]\n",
    "average_rating = ratings_df[ratings_df['movieId'] == terminator_movie_id]['rating'].mean()\n",
    "\n",
    "# Print the result\n",
    "print(f\"Average User Rating for 'Terminator 2: Judgment Day (1991)': {average_rating:.2f}\")\n"
   ]
  },
  {
   "cell_type": "markdown",
   "metadata": {
    "id": "U8rVj77wtC38"
   },
   "source": [
    "**How does the data distribution of user ratings for \"Fight Club (1999)\" movie looks like?**"
   ]
  },
  {
   "cell_type": "code",
   "execution_count": 7,
   "metadata": {
    "colab": {
     "base_uri": "https://localhost:8080/",
     "height": 581
    },
    "id": "WklBbnUpg_ov",
    "outputId": "4d8c3a1c-2680-49b1-8c4f-1f549a00e1e3"
   },
   "outputs": [
    {
     "data": {
      "image/png": "[encoded data removed]",
      "text/plain": [
       "<Figure size 1000x600 with 1 Axes>"
      ]
     },
     "metadata": {},
     "output_type": "display_data"
    },
    {
     "name": "stdout",
     "output_type": "stream",
     "text": [
      "The distribution is negatively skewed.\n"
     ]
    }
   ],
   "source": [
    "import pandas as pd\n",
    "import matplotlib.pyplot as plt\n",
    "\n",
    "\n",
    "ratings_df = pd.read_csv('ratings.csv')\n",
    "\n",
    "movies_df = pd.read_csv('movies.csv')\n",
    "\n",
    "fight_club_movie_id = movies_df[movies_df['title'] == 'Fight Club (1999)']['movieId'].iloc[0]\n",
    "\n",
    "fight_club_ratings = ratings_df[ratings_df['movieId'] == fight_club_movie_id]['rating']\n",
    "\n",
    "# Plot a histogram\n",
    "plt.figure(figsize=(10, 6))\n",
    "plt.hist(fight_club_ratings, bins=5, edgecolor='black', alpha=0.7)\n",
    "plt.title('Distribution of User Ratings for \"Fight Club (1999)\"')\n",
    "plt.xlabel('Rating')\n",
    "plt.ylabel('Number of Ratings')\n",
    "plt.show()\n",
    "\n",
    "# Determine the type of distribution\n",
    "mean_rating = fight_club_ratings.mean()\n",
    "median_rating = fight_club_ratings.median()\n",
    "\n",
    "if mean_rating > median_rating:\n",
    "    print(\"The distribution is positively skewed.\")\n",
    "elif mean_rating < median_rating:\n",
    "    print(\"The distribution is negatively skewed.\")\n",
    "else:\n",
    "    print(\"The distribution is approximately symmetric.\")\n"
   ]
  },
  {
   "cell_type": "markdown",
   "metadata": {
    "id": "rwpR_fR_tJLg"
   },
   "source": [
    "**Which movie is the most popular based on  average user ratings?**\n"
   ]
  },
  {
   "cell_type": "code",
   "execution_count": 8,
   "metadata": {
    "colab": {
     "base_uri": "https://localhost:8080/"
    },
    "id": "jzPGMnAUhlJa",
    "outputId": "4f9e2180-de1f-4bde-a8f3-bef7dd3ff8c5"
   },
   "outputs": [
    {
     "name": "stdout",
     "output_type": "stream",
     "text": [
      "Most Popular Movie based on Average User Ratings:\n",
      "Movie Title: Shawshank Redemption, The (1994)\n",
      "Average User Rating: 4.429022082018927\n"
     ]
    }
   ],
   "source": [
    "import pandas as pd\n",
    "\n",
    "ratings_df = pd.read_csv('ratings.csv')\n",
    "movies_df = pd.read_csv('movies.csv')\n",
    "grouped_ratings = ratings_df.groupby('movieId')['rating'].agg(['count', 'mean']).reset_index()\n",
    "merged_df = pd.merge(movies_df, grouped_ratings, on='movieId', how='inner')\n",
    "filtered_df = merged_df[merged_df['count'] > 50]\n",
    "\n",
    "most_popular_movie = filtered_df[filtered_df['mean'] == filtered_df['mean'].max()]\n",
    "\n",
    "# Print the result\n",
    "print(\"Most Popular Movie based on Average User Ratings:\")\n",
    "print(\"Movie Title:\", most_popular_movie['title'].iloc[0])\n",
    "print(\"Average User Rating:\", most_popular_movie['mean'].iloc[0])\n"
   ]
  },
  {
   "cell_type": "markdown",
   "metadata": {
    "id": "aWiceZDPtRNP"
   },
   "source": [
    "**Select all the correct options which comes under top 5 popular movies based on number of user ratings.**\n",
    "\n"
   ]
  },
  {
   "cell_type": "code",
   "execution_count": 9,
   "metadata": {
    "colab": {
     "base_uri": "https://localhost:8080/"
    },
    "id": "LAtHGE9ihunS",
    "outputId": "a2ca1111-2a32-4128-e5e5-2d032a6b308e"
   },
   "outputs": [
    {
     "name": "stdout",
     "output_type": "stream",
     "text": [
      "Top 5 Popular Movies based on Number of User Ratings:\n",
      "                                 title  count\n",
      "314                Forrest Gump (1994)    329\n",
      "277   Shawshank Redemption, The (1994)    317\n",
      "257                Pulp Fiction (1994)    307\n",
      "510   Silence of the Lambs, The (1991)    279\n",
      "1938                Matrix, The (1999)    278\n"
     ]
    }
   ],
   "source": [
    "\n",
    "ratings_df = pd.read_csv('ratings.csv')\n",
    "\n",
    "movies_df = pd.read_csv('movies.csv')\n",
    "\n",
    "grouped_ratings = ratings_df.groupby('movieId')['rating'].agg(['count', 'mean']).reset_index()\n",
    "\n",
    "merged_df = pd.merge(movies_df, grouped_ratings, on='movieId', how='inner')\n",
    "\n",
    "filtered_df = merged_df[merged_df['count'] > 50]\n",
    "\n",
    "# Top 5 popular movies based on number of user ratings\n",
    "top_5_popular_movies = filtered_df.sort_values(by='count', ascending=False).head(5)\n",
    "\n",
    "# Print the result\n",
    "print(\"Top 5 Popular Movies based on Number of User Ratings:\")\n",
    "print(top_5_popular_movies[['title', 'count']])\n"
   ]
  },
  {
   "cell_type": "markdown",
   "metadata": {
    "id": "TtI677AttclF"
   },
   "source": [
    "**Which Sci-Fi movie is \"third most popular\" based on the number of user ratings?**"
   ]
  },
  {
   "cell_type": "code",
   "execution_count": 10,
   "metadata": {
    "colab": {
     "base_uri": "https://localhost:8080/"
    },
    "id": "b89GM0ARiCZ7",
    "outputId": "24d2e98e-cb44-43c7-c1c8-a2e4e37a8b30"
   },
   "outputs": [
    {
     "name": "stdout",
     "output_type": "stream",
     "text": [
      "Third Most Popular Sci-Fi Movie based on Number of User Ratings:\n",
      "Movie Title: Jurassic Park (1993)\n",
      "Number of User Ratings: 238\n"
     ]
    }
   ],
   "source": [
    "\n",
    "ratings_df = pd.read_csv('ratings.csv')\n",
    "\n",
    "movies_df = pd.read_csv('movies.csv')\n",
    "grouped_ratings = ratings_df.groupby('movieId')['rating'].agg(['count', 'mean']).reset_index()\n",
    "\n",
    "# Step 2: Inner join with movies.csv\n",
    "merged_df = pd.merge(movies_df, grouped_ratings, on='movieId', how='inner')\n",
    "\n",
    "# Step 3: Filter only those movies with more than 50 user ratings\n",
    "filtered_df = merged_df[merged_df['count'] > 50]\n",
    "\n",
    "# Filter Sci-Fi movies\n",
    "sci_fi_movies = filtered_df[filtered_df['genres'].str.contains('Sci-Fi')]\n",
    "\n",
    "sorted_sci_fi_movies = sci_fi_movies.sort_values(by='count', ascending=False)\n",
    "\n",
    "# Get the third most popular Sci-Fi movie\n",
    "third_most_popular_sci_fi_movie = sorted_sci_fi_movies.iloc[2]\n",
    "\n",
    "# Print the result\n",
    "print(\"Third Most Popular Sci-Fi Movie based on Number of User Ratings:\")\n",
    "print(\"Movie Title:\", third_most_popular_sci_fi_movie['title'])\n",
    "print(\"Number of User Ratings:\", third_most_popular_sci_fi_movie['count'])\n"
   ]
  },
  {
   "cell_type": "markdown",
   "metadata": {
    "id": "8sNjBULztpRp"
   },
   "source": [
    "**Mention the movieId of the movie which has the highest IMDB rating.**\n"
   ]
  },
  {
   "cell_type": "code",
   "execution_count": null,
   "metadata": {
    "id": "ZciQ76UAjbh9"
   },
   "outputs": [],
   "source": [
    "import pandas as pd\n",
    "import requests\n",
    "from bs4 import BeautifulSoup\n",
    "\n",
    "# Read the 'links.csv' file\n",
    "links_df = pd.read_csv('links.csv')\n",
    "\n",
    "# Create an empty DataFrame to store movie ratings\n",
    "imdb_ratings_df = pd.DataFrame(columns=['movieId', 'IMDbRating'])\n",
    "\n",
    "# Function to scrape IMDb rating for a given IMDb ID\n",
    "def scrape_imdb_rating(imdb_id):\n",
    "    imdb_url = f'https://www.imdb.com/title/{imdb_id}/'\n",
    "    response = requests.get(imdb_url)\n",
    "\n",
    "    if response.status_code == 200:\n",
    "        soup = BeautifulSoup(response.text, 'html.parser')\n",
    "        rating_element = soup.find('span', {'itemprop': 'ratingValue'})\n",
    "\n",
    "        if rating_element:\n",
    "            imdb_rating = float(rating_element.text)\n",
    "            return imdb_rating\n",
    "\n",
    "    return None\n",
    "\n",
    "# Loop through each row in 'links.csv' and scrape IMDb rating\n",
    "for index, row in links_df.iterrows():\n",
    "    movie_id = row['movieId']\n",
    "    imdb_id = row['imdbId']\n",
    "\n",
    "    imdb_rating = scrape_imdb_rating(imdb_id)\n",
    "\n",
    "    if imdb_rating is not None:\n",
    "        imdb_ratings_df = imdb_ratings_df.append({'movieId': movie_id, 'IMDbRating': imdb_rating}, ignore_index=True)\n",
    "\n",
    "# Find the movie with the highest IMDb rating\n",
    "highest_rated_movie = imdb_ratings_df.loc[imdb_ratings_df['IMDbRating'].idxmax()]\n",
    "\n",
    "# Print the result\n",
    "print(\"Movie with the Highest IMDb Rating:\")\n",
    "print(\"Movie ID:\", int(highest_rated_movie['movieId']))\n",
    "print(\"IMDb Rating:\", highest_rated_movie['IMDbRating'])\n",
    "\n"
   ]
  },
  {
   "cell_type": "markdown",
   "metadata": {
    "id": "e2Ys_e0yut5h"
   },
   "source": [
    "**Mention the movieId of the \"Sci-Fi\" movie which has the highest IMDB rating.**"
   ]
  },
  {
   "cell_type": "code",
   "execution_count": null,
   "metadata": {
    "id": "DLiuO5WTujek"
   },
   "outputs": [],
   "source": [
    "import pandas as pd\n",
    "import requests\n",
    "from bs4 import BeautifulSoup\n",
    "\n",
    "# Read the 'links.csv' and 'movies.csv' files\n",
    "links_df = pd.read_csv('links.csv')\n",
    "movies_df = pd.read_csv('movies.csv')\n",
    "\n",
    "merged_df = pd.merge(links_df, movies_df, on='movieId')\n",
    "\n",
    "sci_fi_movies_df = merged_df[merged_df['genres'].str.contains('Sci-Fi')]\n",
    "\n",
    "sci_fi_imdb_ratings_df = pd.DataFrame(columns=['movieId', 'IMDbRating'])\n",
    "\n",
    "\n",
    "def scrape_imdb_rating(imdb_id):\n",
    "    imdb_url = f'https://www.imdb.com/title/{imdb_id}/'\n",
    "    response = requests.get(imdb_url)\n",
    "\n",
    "    if response.status_code == 200:\n",
    "        soup = BeautifulSoup(response.text, 'html.parser')\n",
    "        rating_element = soup.find('span', {'itemprop': 'ratingValue'})\n",
    "\n",
    "        if rating_element:\n",
    "            imdb_rating = float(rating_element.text)\n",
    "            return imdb_rating\n",
    "\n",
    "    return None\n",
    "\n",
    "\n",
    "for index, row in sci_fi_movies_df.iterrows():\n",
    "    movie_id = row['movieId']\n",
    "    imdb_id = row['imdbId']\n",
    "\n",
    "    imdb_rating = scrape_imdb_rating(imdb_id)\n",
    "\n",
    "    if imdb_rating is not None:\n",
    "        sci_fi_imdb_ratings_df = sci_fi_imdb_ratings_df.append({'movieId': movie_id, 'IMDbRating': imdb_rating}, ignore_index=True)\n",
    "\n",
    "# Find the Sci-Fi movie with the highest IMDb rating\n",
    "highest_rated_sci_fi_movie = sci_fi_imdb_ratings_df.loc[sci_fi_imdb_ratings_df['IMDbRating'].idxmax()]\n",
    "\n",
    "# Print the result\n",
    "print(\"Sci-Fi Movie with the Highest IMDb Rating:\")\n",
    "print(\"Movie ID:\", int(highest_rated_sci_fi_movie['movieId']))\n",
    "print(\"IMDb Rating:\", highest_rated_sci_fi_movie['IMDbRating'])\n"
   ]
  }
 ],
 "metadata": {
  "colab": {
   "provenance": []
  },
  "kernelspec": {
   "display_name": "Python 3 (ipykernel)",
   "language": "python",
   "name": "python3"
  },
  "language_info": {
   "codemirror_mode": {
    "name": "ipython",
    "version": 3
   },
   "file_extension": ".py",
   "mimetype": "text/x-python",
   "name": "python",
   "nbconvert_exporter": "python",
   "pygments_lexer": "ipython3",
   "version": "3.9.13"
  }
 },
 "nbformat": 4,
 "nbformat_minor": 1
}
